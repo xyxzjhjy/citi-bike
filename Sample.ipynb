{
 "cells": [
  {
   "cell_type": "code",
   "execution_count": 8,
   "metadata": {},
   "outputs": [
    {
     "name": "stdout",
     "output_type": "stream",
     "text": [
      "0 - less than 10\n",
      "1 - less than 10\n",
      "2 - less than 10\n",
      "3 - less than 10\n",
      "4 - less than 10\n",
      "5 - less than 10\n",
      "6 - less than 10\n",
      "7 - less than 10\n",
      "8 - less than 10\n",
      "9 - less than 10\n",
      "10 - exactly 10\n",
      "11 - Greater than 10\n",
      "12 - Greater than 10\n",
      "13 - Greater than 10\n",
      "14 - Greater than 10\n",
      "15 - Greater than 10\n",
      "16 - Greater than 10\n",
      "17 - Greater than 10\n",
      "18 - Greater than 10\n",
      "19 - Greater than 10\n"
     ]
    }
   ],
   "source": [
    "for i in range(20):\n",
    "    if i< 10:\n",
    "        print(\"%d - less than 10\" % (i))\n",
    "    elif i>10:\n",
    "        print(\"%d - Greater than 10\" % (i))\n",
    "    else:\n",
    "        print(\"%d - exactly 10\" % (i))\n",
    "        "
   ]
  },
  {
   "cell_type": "code",
   "execution_count": 9,
   "metadata": {
    "scrolled": true
   },
   "outputs": [
    {
     "name": "stdout",
     "output_type": "stream",
     "text": [
      "hello world\n"
     ]
    }
   ],
   "source": [
    "def hello():\n",
    "    print (\"hello world\")\n",
    "hello()"
   ]
  },
  {
   "cell_type": "code",
   "execution_count": 11,
   "metadata": {},
   "outputs": [
    {
     "name": "stdout",
     "output_type": "stream",
     "text": [
      "hello, Sam\n"
     ]
    }
   ],
   "source": [
    "def hello (name=\"Sam\"):\n",
    "    print (\"hello, %s\"% name)\n",
    "hello()"
   ]
  },
  {
   "cell_type": "code",
   "execution_count": 12,
   "metadata": {},
   "outputs": [
    {
     "name": "stdout",
     "output_type": "stream",
     "text": [
      "['bear', 'lion', 'monkey', 'unicorn']\n"
     ]
    }
   ],
   "source": [
    "animals= []\n",
    "animals.append(\"bear\")\n",
    "animals.append(\"lion\")\n",
    "animals.append(\"monkey\")\n",
    "animals.append(\"unicorn\")\n",
    "print(animals)\n"
   ]
  },
  {
   "cell_type": "code",
   "execution_count": 13,
   "metadata": {},
   "outputs": [
    {
     "name": "stdout",
     "output_type": "stream",
     "text": [
      "bear\n",
      "lion\n",
      "monkey\n",
      "unicorn\n"
     ]
    }
   ],
   "source": [
    "for i in animals:\n",
    "    print(i)\n",
    "    "
   ]
  },
  {
   "cell_type": "code",
   "execution_count": 14,
   "metadata": {},
   "outputs": [
    {
     "name": "stdout",
     "output_type": "stream",
     "text": [
      "lion\n",
      "['bear', 'monkey', 'unicorn']\n"
     ]
    }
   ],
   "source": [
    "a= animals.pop(1)\n",
    "print(a)\n",
    "print(animals)"
   ]
  },
  {
   "cell_type": "code",
   "execution_count": 15,
   "metadata": {},
   "outputs": [
    {
     "data": {
      "text/plain": [
       "1"
      ]
     },
     "execution_count": 15,
     "metadata": {},
     "output_type": "execute_result"
    }
   ],
   "source": [
    "animals.count(\"bear\")"
   ]
  },
  {
   "cell_type": "code",
   "execution_count": 18,
   "metadata": {},
   "outputs": [
    {
     "name": "stdout",
     "output_type": "stream",
     "text": [
      "['bear', 'monkey', 'unicorn']\n"
     ]
    }
   ],
   "source": [
    "animals.sort()\n",
    "print(animals)"
   ]
  },
  {
   "cell_type": "code",
   "execution_count": 21,
   "metadata": {},
   "outputs": [
    {
     "name": "stdout",
     "output_type": "stream",
     "text": [
      "['MONKEY', 'UNICORN']\n"
     ]
    }
   ],
   "source": [
    "for a in animals:\n",
    "    if a==\"bear\":\n",
    "        a\n",
    "newlist = [a.upper() for a in animals if a!=\"bear\"]\n",
    "print(newlist)"
   ]
  },
  {
   "cell_type": "code",
   "execution_count": 24,
   "metadata": {},
   "outputs": [
    {
     "name": "stdout",
     "output_type": "stream",
     "text": [
      "[0, 2, 4, 6, 8, 10, 12, 14, 16, 18, 20, 22, 24, 26, 28, 30, 32, 34, 36, 38, 40, 42]\n"
     ]
    }
   ],
   "source": [
    "evenlist=[a for a in range(44) if a % 2==0]\n",
    "print(evenlist)"
   ]
  },
  {
   "cell_type": "code",
   "execution_count": 25,
   "metadata": {},
   "outputs": [
    {
     "name": "stdout",
     "output_type": "stream",
     "text": [
      "[0, 4, 8, 12, 16, 20, 24, 28, 32, 36, 40, 44, 48, 52, 56, 60, 64, 68, 72, 76, 80, 84]\n"
     ]
    }
   ],
   "source": [
    "doublelist=[2*a for a in evenlist]\n",
    "print(doublelist)"
   ]
  },
  {
   "cell_type": "code",
   "execution_count": 28,
   "metadata": {},
   "outputs": [
    {
     "data": {
      "text/plain": [
       "7"
      ]
     },
     "execution_count": 28,
     "metadata": {},
     "output_type": "execute_result"
    }
   ],
   "source": [
    "import random\n",
    "random.randint(0,10)"
   ]
  },
  {
   "cell_type": "code",
   "execution_count": 30,
   "metadata": {},
   "outputs": [
    {
     "ename": "NameError",
     "evalue": "name 'plot' is not defined",
     "output_type": "error",
     "traceback": [
      "\u001b[0;31m---------------------------------------------------------------------------\u001b[0m",
      "\u001b[0;31mNameError\u001b[0m                                 Traceback (most recent call last)",
      "\u001b[0;32m<ipython-input-30-97bc7361153e>\u001b[0m in \u001b[0;36m<module>\u001b[0;34m()\u001b[0m\n\u001b[1;32m      6\u001b[0m \u001b[0mplt\u001b[0m\u001b[0;34m.\u001b[0m\u001b[0mplot\u001b[0m\u001b[0;34m(\u001b[0m\u001b[0mX\u001b[0m\u001b[0;34m,\u001b[0m\u001b[0mC\u001b[0m\u001b[0;34m)\u001b[0m\u001b[0;34m\u001b[0m\u001b[0m\n\u001b[1;32m      7\u001b[0m \u001b[0mplt\u001b[0m\u001b[0;34m.\u001b[0m\u001b[0mplot\u001b[0m\u001b[0;34m(\u001b[0m\u001b[0mX\u001b[0m\u001b[0;34m,\u001b[0m\u001b[0mS\u001b[0m\u001b[0;34m)\u001b[0m\u001b[0;34m\u001b[0m\u001b[0m\n\u001b[0;32m----> 8\u001b[0;31m \u001b[0mplot\u001b[0m\u001b[0;34m.\u001b[0m\u001b[0mshow\u001b[0m\u001b[0;34m(\u001b[0m\u001b[0;34m)\u001b[0m\u001b[0;34m\u001b[0m\u001b[0m\n\u001b[0m",
      "\u001b[0;31mNameError\u001b[0m: name 'plot' is not defined"
     ]
    }
   ],
   "source": [
    "import numpy as np\n",
    "import matplotlib.pyplot as plt\n",
    "np.power(2,2)\n",
    "X= np.linspace(-np.pi,np.pi,256,endpoint=True)\n",
    "C,S=np.cos(X),np.sin(X)\n",
    "plt.plot(X,C)\n",
    "plt.plot(X,S)\n",
    "plot.show()"
   ]
  },
  {
   "cell_type": "code",
   "execution_count": null,
   "metadata": {},
   "outputs": [],
   "source": []
  }
 ],
 "metadata": {
  "kernelspec": {
   "display_name": "Python 3",
   "language": "python",
   "name": "python3"
  },
  "language_info": {
   "codemirror_mode": {
    "name": "ipython",
    "version": 3
   },
   "file_extension": ".py",
   "mimetype": "text/x-python",
   "name": "python",
   "nbconvert_exporter": "python",
   "pygments_lexer": "ipython3",
   "version": "3.5.2"
  }
 },
 "nbformat": 4,
 "nbformat_minor": 2
}
